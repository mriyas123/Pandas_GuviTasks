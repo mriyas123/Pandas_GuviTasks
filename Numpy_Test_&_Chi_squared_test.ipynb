{
  "nbformat": 4,
  "nbformat_minor": 0,
  "metadata": {
    "colab": {
      "provenance": [],
      "include_colab_link": true
    },
    "kernelspec": {
      "name": "python3",
      "display_name": "Python 3"
    },
    "language_info": {
      "name": "python"
    }
  },
  "cells": [
    {
      "cell_type": "markdown",
      "metadata": {
        "id": "view-in-github",
        "colab_type": "text"
      },
      "source": [
        "<a href=\"https://colab.research.google.com/github/mriyas123/Pandas_GuviTasks/blob/main/Numpy_Test_%26_Chi_squared_test.ipynb\" target=\"_parent\"><img src=\"https://colab.research.google.com/assets/colab-badge.svg\" alt=\"Open In Colab\"/></a>"
      ]
    },
    {
      "cell_type": "markdown",
      "source": [
        "## #NUMPY TEST"
      ],
      "metadata": {
        "id": "wm3k6uMJWVfS"
      }
    },
    {
      "cell_type": "code",
      "source": [
        "import pandas as pd\n",
        "import numpy as np"
      ],
      "metadata": {
        "id": "Sf8vZO0lVGz8"
      },
      "execution_count": null,
      "outputs": []
    },
    {
      "cell_type": "code",
      "source": [
        "x=np.arange(1,11)\n",
        "x1=x+1\n",
        "print(x1)"
      ],
      "metadata": {
        "colab": {
          "base_uri": "https://localhost:8080/"
        },
        "id": "3fFDrun4VorZ",
        "outputId": "26a62bf2-878f-4fd2-fb4c-52375a6a360d"
      },
      "execution_count": null,
      "outputs": [
        {
          "output_type": "stream",
          "name": "stdout",
          "text": [
            "[ 2  3  4  5  6  7  8  9 10 11]\n"
          ]
        }
      ]
    },
    {
      "cell_type": "code",
      "source": [
        "m, n = 10,10\n",
        "A = np.empty(shape=(m, n), dtype=int)\n",
        "\n",
        "i, j = np.ogrid[:m, :n]\n",
        "#print(i,j)\n",
        "A = i+j\n",
        "\n",
        "print(A)"
      ],
      "metadata": {
        "colab": {
          "base_uri": "https://localhost:8080/"
        },
        "id": "PAujMISrVSSq",
        "outputId": "2a5654e3-c790-4b8c-f969-9ba3fa1422d1"
      },
      "execution_count": null,
      "outputs": [
        {
          "output_type": "stream",
          "name": "stdout",
          "text": [
            "[[ 0  1  2  3  4  5  6  7  8  9]\n",
            " [ 1  2  3  4  5  6  7  8  9 10]\n",
            " [ 2  3  4  5  6  7  8  9 10 11]\n",
            " [ 3  4  5  6  7  8  9 10 11 12]\n",
            " [ 4  5  6  7  8  9 10 11 12 13]\n",
            " [ 5  6  7  8  9 10 11 12 13 14]\n",
            " [ 6  7  8  9 10 11 12 13 14 15]\n",
            " [ 7  8  9 10 11 12 13 14 15 16]\n",
            " [ 8  9 10 11 12 13 14 15 16 17]\n",
            " [ 9 10 11 12 13 14 15 16 17 18]]\n"
          ]
        }
      ]
    },
    {
      "cell_type": "code",
      "source": [
        "a = np.zeros((2, 512*512), dtype=np.float32)  \n",
        "a[1, :] = 1.0  \n",
        "a[0, :] = 0.1  \n",
        "print(a)"
      ],
      "metadata": {
        "colab": {
          "base_uri": "https://localhost:8080/"
        },
        "id": "VVuXWSiEWEDF",
        "outputId": "cd4abab8-5d23-4da2-e443-75f4012e8794"
      },
      "execution_count": null,
      "outputs": [
        {
          "output_type": "stream",
          "name": "stdout",
          "text": [
            "[[0.1 0.1 0.1 ... 0.1 0.1 0.1]\n",
            " [1.  1.  1.  ... 1.  1.  1. ]]\n"
          ]
        }
      ]
    },
    {
      "cell_type": "code",
      "source": [
        "import numpy.random as npr\n",
        "data = np.exp ( npr.randn(50, 5) )\n",
        "b=np.std(data,axis=1)\n",
        "print(b)\n",
        "c=np.mean(data,axis=1)\n",
        "print(\"mean = \",c)"
      ],
      "metadata": {
        "colab": {
          "base_uri": "https://localhost:8080/"
        },
        "id": "nJkJUXVzWIyh",
        "outputId": "89a1f3af-1125-431c-dab1-eb6ab1090fc4"
      },
      "execution_count": null,
      "outputs": [
        {
          "output_type": "stream",
          "name": "stdout",
          "text": [
            "[ 1.37278313  1.23728069  1.20619632  1.43406147  1.0135916   1.22386547\n",
            " 16.29993575 10.16555932  0.49073632  2.82230076  4.37834506  2.32500901\n",
            "  0.72034385  0.71898142  9.65449262  2.1897444   9.69876766  1.11937805\n",
            "  0.80095222  4.19681396  1.88496703  0.62990618  0.8064708   0.47059013\n",
            "  0.5757512   1.91579699  0.50669591  0.7897075   2.25315162  1.78368755\n",
            "  3.79475555  1.25421529  0.1194862   3.3193863   4.41180438  0.69643876\n",
            "  1.48047503  8.13596053  1.23323293  2.3990874   3.42906516  0.57129252\n",
            "  2.08383488  0.71831452  0.7566149   1.9717655   0.79822339  0.65340284\n",
            "  0.79465579  4.40346505]\n",
            "mean =  [ 1.82134207  1.12363846  1.49497132  1.6092419   1.13527748  1.15835114\n",
            " 10.01022025  5.54068944  0.6377501   2.48272917  4.44980569  2.75160229\n",
            "  0.93893959  1.64285876  7.14792147  1.78702584  6.55242248  1.50476289\n",
            "  1.36910811  2.52358007  2.06355211  0.96521343  0.98188535  1.02906955\n",
            "  0.99540122  1.72344809  0.93951838  1.1010409   2.64744965  1.69433779\n",
            "  3.59158998  1.41437679  0.45875592  2.88135815  4.75591123  0.95876187\n",
            "  1.83623756  5.62340206  1.8795746   2.45933508  2.89691349  1.16974497\n",
            "  2.11885079  1.03515969  1.02170331  2.75059906  1.04178026  0.97022598\n",
            "  1.44663688  4.27151221]\n"
          ]
        }
      ]
    },
    {
      "cell_type": "markdown",
      "source": [
        "## **#CHI-SQUARE TEST**"
      ],
      "metadata": {
        "id": "9n3y8RlpWMt8"
      }
    },
    {
      "cell_type": "code",
      "source": [
        "from scipy.stats import chi2_contingency\n",
        "\n",
        "Data = [[141, 68, 4], [179, 159, 7], [220,216,4], [86,101,4]]\n",
        "Calculated_ChiSq, p,  Degrees_of_Freedom, Expected_Values = chi2_contingency(Data)\n",
        "\n",
        "Alpha = 0.05\n",
        "print(\"p value is \" + str(p))\n",
        "if p >= Alpha:\n",
        "    print('Independent (H0 Holds True / We accept the Null Hypothesis)') \n",
        "else:\n",
        "    print('Dependent (We Reject the H0)') "
      ],
      "metadata": {
        "colab": {
          "base_uri": "https://localhost:8080/"
        },
        "id": "GL_tTjMXpSMy",
        "outputId": "e4013e0e-4967-47cc-b0ea-be57c414570c"
      },
      "execution_count": null,
      "outputs": [
        {
          "output_type": "stream",
          "name": "stdout",
          "text": [
            "p value is 0.00044690833914947634\n",
            "Dependent (We Reject the H0)\n"
          ]
        }
      ]
    }
  ]
}