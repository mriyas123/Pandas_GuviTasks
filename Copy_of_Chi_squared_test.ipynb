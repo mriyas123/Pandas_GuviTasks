{
  "nbformat": 4,
  "nbformat_minor": 0,
  "metadata": {
    "colab": {
      "provenance": [],
      "include_colab_link": true
    },
    "kernelspec": {
      "name": "python3",
      "display_name": "Python 3"
    },
    "language_info": {
      "name": "python"
    }
  },
  "cells": [
    {
      "cell_type": "markdown",
      "metadata": {
        "id": "view-in-github",
        "colab_type": "text"
      },
      "source": [
        "<a href=\"https://colab.research.google.com/github/mriyas123/Pandas_GuviTasks/blob/main/Copy_of_Chi_squared_test.ipynb\" target=\"_parent\"><img src=\"https://colab.research.google.com/assets/colab-badge.svg\" alt=\"Open In Colab\"/></a>"
      ]
    },
    {
      "cell_type": "code",
      "source": [
        "from scipy.stats import chi2_contingency\n",
        "\n",
        "Data = [[141, 68, 4], [179, 159, 7], [220,216,4], [86,101,4]]\n",
        "Calculated_ChiSq, p,  Degrees_of_Freedom, Expected_Values = chi2_contingency(Data)\n",
        "\n",
        "Alpha = 0.05\n",
        "print(\"p value is \" + str(p))\n",
        "if p >= Alpha:\n",
        "    print('Independent (H0 Holds True / We accept the Null Hypothesis)') \n",
        "else:\n",
        "    print('Dependent (We Reject the H0)') "
      ],
      "metadata": {
        "colab": {
          "base_uri": "https://localhost:8080/"
        },
        "id": "GL_tTjMXpSMy",
        "outputId": "e4013e0e-4967-47cc-b0ea-be57c414570c"
      },
      "execution_count": null,
      "outputs": [
        {
          "output_type": "stream",
          "name": "stdout",
          "text": [
            "p value is 0.00044690833914947634\n",
            "Dependent (We Reject the H0)\n"
          ]
        }
      ]
    }
  ]
}